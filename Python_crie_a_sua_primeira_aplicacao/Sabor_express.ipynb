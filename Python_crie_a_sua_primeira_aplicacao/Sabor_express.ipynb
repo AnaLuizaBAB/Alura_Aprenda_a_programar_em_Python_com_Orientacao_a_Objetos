{
 "cells": [
  {
   "cell_type": "markdown",
   "metadata": {},
   "source": [
    "#### \\o/\n",
    "\n",
    "https://fsymbols.com/pt/"
   ]
  },
  {
   "cell_type": "code",
   "execution_count": null,
   "metadata": {},
   "outputs": [],
   "source": [
    "print(\"🆅🅰🅸 🅳🅰🆁 🅲🅴🆁🆃🅾 2024❗❗\")"
   ]
  },
  {
   "cell_type": "code",
   "execution_count": null,
   "metadata": {},
   "outputs": [],
   "source": [
    "print(\"\"\"\n",
    "────────────────────────────────────────────────────────────────────────────────────────────────────────────────────────────────────────────────────────────────────────────────\n",
    "─██████──██████─██████████████─██████████────████████████───██████████████─████████████████──────██████████████─██████████████─████████████████───██████████████─██████████████─\n",
    "─██░░██──██░░██─██░░░░░░░░░░██─██░░░░░░██────██░░░░░░░░████─██░░░░░░░░░░██─██░░░░░░░░░░░░██──────██░░░░░░░░░░██─██░░░░░░░░░░██─██░░░░░░░░░░░░██───██░░░░░░░░░░██─██░░░░░░░░░░██─\n",
    "─██░░██──██░░██─██░░██████░░██─████░░████────██░░████░░░░██─██░░██████░░██─██░░████████░░██──────██░░██████████─██░░██████████─██░░████████░░██───██████░░██████─██░░██████░░██─\n",
    "─██░░██──██░░██─██░░██──██░░██───██░░██──────██░░██──██░░██─██░░██──██░░██─██░░██────██░░██──────██░░██─────────██░░██─────────██░░██────██░░██───────██░░██─────██░░██──██░░██─\n",
    "─██░░██──██░░██─██░░██████░░██───██░░██──────██░░██──██░░██─██░░██████░░██─██░░████████░░██──────██░░██─────────██░░██████████─██░░████████░░██───────██░░██─────██░░██──██░░██─\n",
    "─██░░██──██░░██─██░░░░░░░░░░██───██░░██──────██░░██──██░░██─██░░░░░░░░░░██─██░░░░░░░░░░░░██──────██░░██─────────██░░░░░░░░░░██─██░░░░░░░░░░░░██───────██░░██─────██░░██──██░░██─\n",
    "─██░░██──██░░██─██░░██████░░██───██░░██──────██░░██──██░░██─██░░██████░░██─██░░██████░░████──────██░░██─────────██░░██████████─██░░██████░░████───────██░░██─────██░░██──██░░██─\n",
    "─██░░░░██░░░░██─██░░██──██░░██───██░░██──────██░░██──██░░██─██░░██──██░░██─██░░██──██░░██────────██░░██─────────██░░██─────────██░░██──██░░██─────────██░░██─────██░░██──██░░██─\n",
    "─████░░░░░░████─██░░██──██░░██─████░░████────██░░████░░░░██─██░░██──██░░██─██░░██──██░░██████────██░░██████████─██░░██████████─██░░██──██░░██████─────██░░██─────██░░██████░░██─\n",
    "───████░░████───██░░██──██░░██─██░░░░░░██────██░░░░░░░░████─██░░██──██░░██─██░░██──██░░░░░░██────██░░░░░░░░░░██─██░░░░░░░░░░██─██░░██──██░░░░░░██─────██░░██─────██░░░░░░░░░░██─\n",
    "─────██████─────██████──██████─██████████────████████████───██████──██████─██████──██████████────██████████████─██████████████─██████──██████████─────██████─────██████████████─\n",
    "────────────────────────────────────────────────────────────────────────────────────────────────────────────────────────────────────────────────────────────────────────────────\n",
    "───────────────────────────────────────────────────────────────────────────\n",
    "─██████████████─██████████████─██████████████─██████──██████─██████─██████─\n",
    "─██░░░░░░░░░░██─██░░░░░░░░░░██─██░░░░░░░░░░██─██░░██──██░░██─██░░██─██░░██─\n",
    "─██████████░░██─██░░██████░░██─██████████░░██─██░░██──██░░██─██░░██─██░░██─\n",
    "─────────██░░██─██░░██──██░░██─────────██░░██─██░░██──██░░██─██░░██─██░░██─\n",
    "─██████████░░██─██░░██──██░░██─██████████░░██─██░░██████░░██─██░░██─██░░██─\n",
    "─██░░░░░░░░░░██─██░░██──██░░██─██░░░░░░░░░░██─██░░░░░░░░░░██─██░░██─██░░██─\n",
    "─██░░██████████─██░░██──██░░██─██░░██████████─██████████░░██─██████─██████─\n",
    "─██░░██─────────██░░██──██░░██─██░░██─────────────────██░░██───────────────\n",
    "─██░░██████████─██░░██████░░██─██░░██████████─────────██░░██─██████─██████─\n",
    "─██░░░░░░░░░░██─██░░░░░░░░░░██─██░░░░░░░░░░██─────────██░░██─██░░██─██░░██─\n",
    "─██████████████─██████████████─██████████████─────────██████─██████─██████─\n",
    "───────────────────────────────────────────────────────────────────────────\"\"\")"
   ]
  },
  {
   "cell_type": "markdown",
   "metadata": {},
   "source": [
    "#### Aprendendo sobre o uso do match x if:"
   ]
  },
  {
   "cell_type": "markdown",
   "metadata": {},
   "source": [
    "- com if:"
   ]
  },
  {
   "cell_type": "code",
   "execution_count": null,
   "metadata": {},
   "outputs": [],
   "source": [
    "import os\n",
    "\n",
    "def exibir_nome_do_programa():\n",
    "    print(\"\"\" \n",
    "                                                        ╔═══╗──╔╗───────╔═══╗\n",
    "                                                        ║╔═╗║──║║───────║╔══╝\n",
    "                                                        ║╚══╦══╣╚═╦══╦═╗║╚══╦╗╔╦══╦═╦══╦══╦══╗\n",
    "                                                        ╚══╗║╔╗║╔╗║╔╗║╔╝║╔══╩╬╬╣╔╗║╔╣║═╣══╣══╣\n",
    "                                                        ║╚═╝║╔╗║╚╝║╚╝║║─║╚══╦╬╬╣╚╝║║║║═╬══╠══║\n",
    "                                                        ╚═══╩╝╚╩══╩══╩╝─╚═══╩╝╚╣╔═╩╝╚══╩══╩══╝\n",
    "                                                        ───────────────────────║║\n",
    "                                                        ───────────────────────╚╝ \"\"\")\n",
    "\n",
    "def exibir_opcoes():\n",
    "    print(\"1. Cadastrar Restaurante\")\n",
    "    print(\"2. Listar Restaurantes\")\n",
    "    print(\"3. Ativar Restaurante\")\n",
    "    print(\"4. Sair\")\n",
    "\n",
    "def finalizando_app():\n",
    "    os.system(\"cls\")                    # Limpa a tela do terminal antes de imprimir a mensagem \"Encerrando\" o programa\"\n",
    "    print(\"Encerrando Programa\\n\")\n",
    "\n",
    "def escolher_opcao():\n",
    "    opcao_escolhida = int(input(\"\\nEscolha uma opçao: \"))\n",
    "\n",
    "    if opcao_escolhida == 1:\n",
    "        print(\"Cadastrar Restaurante\")\n",
    "    if opcao_escolhida == 2:\n",
    "        print(\"Listar Restaurantes\")\n",
    "    if opcao_escolhida == 3:\n",
    "        print(\"Ativar Restaurante\")\n",
    "    if opcao_escolhida == 4:\n",
    "        finalizando_app()\n",
    "\n",
    "\n",
    "def main():\n",
    "    exibir_nome_do_programa()\n",
    "    exibir_opcoes()\n",
    "    escolher_opcao()\n",
    "\n",
    "\n",
    "if __name__ == '__main__':\n",
    "    main()"
   ]
  },
  {
   "cell_type": "markdown",
   "metadata": {},
   "source": [
    "- com match:"
   ]
  },
  {
   "cell_type": "code",
   "execution_count": null,
   "metadata": {},
   "outputs": [],
   "source": [
    "import os\n",
    "\n",
    "def exibir_nome_do_programa():\n",
    "    print(\"\"\" \n",
    "                                                        ╔═══╗──╔╗───────╔═══╗\n",
    "                                                        ║╔═╗║──║║───────║╔══╝\n",
    "                                                        ║╚══╦══╣╚═╦══╦═╗║╚══╦╗╔╦══╦═╦══╦══╦══╗\n",
    "                                                        ╚══╗║╔╗║╔╗║╔╗║╔╝║╔══╩╬╬╣╔╗║╔╣║═╣══╣══╣\n",
    "                                                        ║╚═╝║╔╗║╚╝║╚╝║║─║╚══╦╬╬╣╚╝║║║║═╬══╠══║\n",
    "                                                        ╚═══╩╝╚╩══╩══╩╝─╚═══╩╝╚╣╔═╩╝╚══╩══╩══╝\n",
    "                                                        ───────────────────────║║\n",
    "                                                        ───────────────────────╚╝ \"\"\")\n",
    "\n",
    "def exibir_opcoes():\n",
    "    print(\"1. Cadastrar Restaurante\")\n",
    "    print(\"2. Listar Restaurantes\")\n",
    "    print(\"3. Ativar Restaurante\")\n",
    "    print(\"4. Sair\")\n",
    "\n",
    "def finalizando_app():\n",
    "    os.system(\"cls\")                    # Limpa a tela do terminal antes de imprimir a mensagem \"Encerrando\" o programa\"\n",
    "    print(\"Encerrando Programa\\n\")\n",
    "\n",
    "def escolher_opcao():\n",
    "    opcao_escolhida = int(input(\"\\nEscolha uma opçao: \"))\n",
    "\n",
    "    match opcao_escolhida:\n",
    "        case 1:\n",
    "            print(\"Cadastrar Restaurante\")\n",
    "        case 2:\n",
    "            print(\"Listar Restaurantes\")\n",
    "        case 3:\n",
    "            print(\"Ativar Restaurante\")\n",
    "        case 4:\n",
    "            finalizando_app()\n",
    "\n",
    "\n",
    "def main():\n",
    "    exibir_nome_do_programa()\n",
    "    exibir_opcoes()\n",
    "    escolher_opcao()\n",
    "\n",
    "\n",
    "if __name__ == '__main__':\n",
    "    main()"
   ]
  },
  {
   "cell_type": "markdown",
   "metadata": {},
   "source": [
    "#### Exercícios:"
   ]
  },
  {
   "cell_type": "markdown",
   "metadata": {},
   "source": [
    "- Módulo 2:"
   ]
  },
  {
   "cell_type": "markdown",
   "metadata": {},
   "source": [
    "1 - Solicite ao usuário que insira um número e, em seguida, use uma estrutura if else para determinar se o número é par ou ímpar."
   ]
  },
  {
   "cell_type": "code",
   "execution_count": null,
   "metadata": {},
   "outputs": [],
   "source": [
    "numero = int(input(\"Digite um número: \"))\n",
    "\n",
    "if numero % 2 == 0:\n",
    "    print(\"O número é par.\")\n",
    "else:\n",
    "    print(\"O número é impar.\")"
   ]
  },
  {
   "cell_type": "markdown",
   "metadata": {},
   "source": [
    "2 - Pergunte ao usuário sua idade e, com base nisso, use uma estrutura if elif else para classificar a idade em categorias de acordo com as seguintes condições:\n",
    "\n",
    "- Criança: 0 a 12 anos;\n",
    "- Adolescente: 13 a 18 anos;\n",
    "- Adulto: acima de 18 anos."
   ]
  },
  {
   "cell_type": "code",
   "execution_count": null,
   "metadata": {},
   "outputs": [],
   "source": [
    "idade = int(input(\"Informe a sua idade: \"))\n",
    "\n",
    "while idade < 0:\n",
    "    print (\"Idade inválida. Por favor tente novamente.\")\n",
    "    idade = int(input(\"Informe a sua idade: \"))\n",
    "\n",
    "\n",
    "if 0 <= idade <= 12:\n",
    "    print (\"Você é uma criança.\")\n",
    "elif 12 < idade <= 18:\n",
    "    print (\"Você é um adolescente.\")\n",
    "else:\n",
    "    print (\"Você é um adulto.\")"
   ]
  },
  {
   "cell_type": "markdown",
   "metadata": {},
   "source": [
    "3 - Solicite um nome de usuário e uma senha e use uma estrutura if else para verificar se o nome de usuário e a senha fornecidos correspondem aos valores esperados determinados por você."
   ]
  },
  {
   "cell_type": "code",
   "execution_count": null,
   "metadata": {},
   "outputs": [],
   "source": [
    "usuario = 'Ana Luiza'\n",
    "senha = 1234567\n",
    "\n",
    "usuario_input = input(\"Informe o usuário: \")\n",
    "senha_input = int(input(\"Informe a senha: \"))\n",
    "\n",
    "if usuario_input == usuario and senha_input == senha:\n",
    "    print (\"Login feito com sucesso!\")\n",
    "elif usuario_input != usuario and senha_input != senha:\n",
    "    print (\"Usuário e senha incorretos.\")\n",
    "elif usuario_input != usuario and senha_input == senha:\n",
    "    print (\"Usuário incorreto.\")\n",
    "elif usuario_input == usuario and senha_input != senha:\n",
    "    print (\"Senha incorreta.\")"
   ]
  },
  {
   "cell_type": "markdown",
   "metadata": {},
   "source": [
    "4 - Solicite ao usuário as coordenadas (x, y) de um ponto qualquer e utilize uma estrutura if elif else para determinar em qual quadrante do plano cartesiano o ponto se encontra de acordo com as seguintes condições:\n",
    "\n",
    "- Primeiro Quadrante: os valores de x e y devem ser maiores que zero;\n",
    "- Segundo Quadrante: o valor de x é menor que zero e o valor de y é maior que zero;\n",
    "- Terceiro Quadrante: os valores de x e y devem ser menores que zero;\n",
    "- Quarto Quadrante: o valor de x é maior que zero e o valor de y é menor que zero;\n",
    "- Caso contrário: o ponto está localizado no eixo ou origem."
   ]
  },
  {
   "cell_type": "code",
   "execution_count": null,
   "metadata": {},
   "outputs": [],
   "source": [
    "x = int(input(\"Informe o valor de x: \"))\n",
    "y = int(input(\"Informe o valor de y: \"))\n",
    "\n",
    "print (f\"O ponto fornecifo foi ({x},{y})\")\n",
    "\n",
    "if (x == 0) and (y == 0):\n",
    "    print (\"O ponto se encontra na origem.\")\n",
    "elif (x == 0) and (y != 0):\n",
    "    print(\"O ponto se encontra no eixo y.\")\n",
    "elif (y == 0) and (x != 0):\n",
    "    print (\"O ponto de encontra no eixo x.\")\n",
    "elif (x > 0  and y > 0):\n",
    "    print (\"O ponto se encontra no primeiro quadrante.\")\n",
    "elif (x < 0 and y > 0):\n",
    "    print (\"O ponto se encontra no segundo quadrante\")\n",
    "elif (x < 0 and y < 0):\n",
    "    print (\"O ponto se encontra no terceiro quadrante.\")\n",
    "else:\n",
    "    print (\"O ponto se encontra no quarto quadrante.\")\n",
    "\n"
   ]
  },
  {
   "cell_type": "markdown",
   "metadata": {},
   "source": [
    "Módulo 3"
   ]
  },
  {
   "cell_type": "markdown",
   "metadata": {},
   "source": [
    "1 - Crie uma lista para cada informação a seguir:\n",
    "\n",
    "- Lista de números de 1 a 10;\n",
    "- Lista com quatro nomes;\n",
    "- Lista com o ano que você nasceu e o ano atual."
   ]
  },
  {
   "cell_type": "code",
   "execution_count": null,
   "metadata": {},
   "outputs": [],
   "source": [
    "lista = []\n",
    "\n",
    "for i in range(1,11):\n",
    "    lista.append(i)\n",
    "\n",
    "print(lista)"
   ]
  },
  {
   "cell_type": "code",
   "execution_count": null,
   "metadata": {},
   "outputs": [],
   "source": [
    "lista2 = []\n",
    "\n",
    "for i in range(1,5):\n",
    "    nome = input(\"Digite um nome: \")\n",
    "    lista2.append(nome)\n",
    "\n",
    "print(lista2)"
   ]
  },
  {
   "cell_type": "code",
   "execution_count": null,
   "metadata": {},
   "outputs": [],
   "source": [
    "lista3 = []\n",
    "\n",
    "\n",
    "data_nascimento = input(\"Informe o ano de seu nascimento: \")\n",
    "ano_atual = input(\"Digite o ano em que se encontra: \")\n",
    "\n",
    "lista3.append(data_nascimento)\n",
    "lista3.append(ano_atual)\n",
    "\n",
    "print (lista3)"
   ]
  },
  {
   "cell_type": "markdown",
   "metadata": {},
   "source": [
    "2 - Crie uma lista e utilize um loop for para percorrer todos os elementos da lista."
   ]
  },
  {
   "cell_type": "code",
   "execution_count": null,
   "metadata": {},
   "outputs": [],
   "source": [
    "lista = ['Ana', 'Priscilla', 'Elizabeth', 'Olivia', 'Branquinha', 'Kira']\n",
    "\n",
    "for nome in lista:\n",
    "    print(f\"- {nome}\")"
   ]
  },
  {
   "cell_type": "markdown",
   "metadata": {},
   "source": [
    "3 - Utilize um loop for para calcular a soma dos números ímpares de 1 a 10."
   ]
  },
  {
   "cell_type": "code",
   "execution_count": null,
   "metadata": {},
   "outputs": [],
   "source": [
    "soma = 0\n",
    "\n",
    "for i in range(1,11):\n",
    "    if i % 2 != 0:\n",
    "        soma += i\n",
    "\n",
    "print (soma)"
   ]
  },
  {
   "cell_type": "markdown",
   "metadata": {},
   "source": [
    "4 - Utilize um loop for para imprimir os números de 1 a 10 em ordem decrescente."
   ]
  },
  {
   "cell_type": "code",
   "execution_count": null,
   "metadata": {},
   "outputs": [],
   "source": [
    "for i in range (10, 0, -1):\n",
    "    print(i)"
   ]
  },
  {
   "cell_type": "markdown",
   "metadata": {},
   "source": [
    "5 - Solicite ao usuário um número e, em seguida, utilize um loop for para imprimir a tabuada desse número, indo de 1 a 10."
   ]
  },
  {
   "cell_type": "code",
   "execution_count": null,
   "metadata": {},
   "outputs": [],
   "source": [
    "numero = int(input (\"Informe o numero: \"))\n",
    "\n",
    "for i in range (1,11):\n",
    "    tabuada = numero * i\n",
    "    print(f\"{numero} x {i} = {tabuada}\")"
   ]
  },
  {
   "cell_type": "markdown",
   "metadata": {},
   "source": [
    "6 - Crie uma lista de números e utilize um loop for para calcular a soma de todos os elementos. Utilize um bloco try-except para lidar com possíveis exceções."
   ]
  },
  {
   "cell_type": "code",
   "execution_count": null,
   "metadata": {},
   "outputs": [],
   "source": [
    "lista = [1,2,None,3,4,5,6,7,8,9,10]\n",
    "soma = 0\n",
    "\n",
    "for i in lista:\n",
    "    try:\n",
    "        soma += i\n",
    "    except:\n",
    "        print(f\"O item '{i}' da lista não é um número inteiro. Então foi desconsiderado na soma.\")\n",
    "\n",
    "print (soma)\n"
   ]
  },
  {
   "cell_type": "markdown",
   "metadata": {},
   "source": [
    "7 - Construa um código que calcule a média dos valores em uma lista. Utilize um bloco try-except para lidar com a divisão por zero, caso a lista esteja vazia."
   ]
  },
  {
   "cell_type": "code",
   "execution_count": null,
   "metadata": {},
   "outputs": [],
   "source": [
    "# lista = [1,2,3,4,5,6]\n",
    "lista = []\n",
    "soma = 0\n",
    "tamanho = len(lista)\n",
    "\n",
    "for i in lista:\n",
    "    soma += i\n",
    "\n",
    "try:\n",
    "    media = soma/tamanho\n",
    "    print(f\"A média dos valores da lista é: {media}\")\n",
    "except Exception as e:\n",
    "    print (f\"Erro: {e}\")"
   ]
  },
  {
   "cell_type": "markdown",
   "metadata": {},
   "source": [
    "Módulo 4"
   ]
  },
  {
   "cell_type": "markdown",
   "metadata": {},
   "source": [
    "1 - Crie um dicionário representando informações sobre uma pessoa, como nome, idade e cidade."
   ]
  },
  {
   "cell_type": "code",
   "execution_count": null,
   "metadata": {},
   "outputs": [],
   "source": [
    "dados = {'nome': 'Ana', 'idade': 32, 'cidade': 'Brasília'}\n",
    "dados"
   ]
  },
  {
   "cell_type": "markdown",
   "metadata": {},
   "source": [
    "2 - Utilizando o dicionário criado no item 1:\n",
    "\n",
    "- Modifique o valor de um dos itens no dicionário (por exemplo, atualize a idade da pessoa);\n",
    "- Adicione um campo de profissão para essa pessoa;\n",
    "- Remova um item do dicionário."
   ]
  },
  {
   "cell_type": "code",
   "execution_count": null,
   "metadata": {},
   "outputs": [],
   "source": [
    "dados['idade'] = 10\n",
    "dados"
   ]
  },
  {
   "cell_type": "code",
   "execution_count": null,
   "metadata": {},
   "outputs": [],
   "source": [
    "dados['profissão'] = 'analista jr.'\n",
    "dados"
   ]
  },
  {
   "cell_type": "code",
   "execution_count": null,
   "metadata": {},
   "outputs": [],
   "source": [
    "dados.pop('cidade')  # esse comando é o mesmo que escrever: del dados['cidade']\n",
    "dados"
   ]
  },
  {
   "cell_type": "markdown",
   "metadata": {},
   "source": [
    "3 - Crie um dicionário utilizando para representar números e seus quadrados de 1 a 5."
   ]
  },
  {
   "cell_type": "code",
   "execution_count": null,
   "metadata": {},
   "outputs": [],
   "source": [
    "dicionario = {x: x**2 for x in range(1,6)}\n",
    "dicionario"
   ]
  },
  {
   "cell_type": "markdown",
   "metadata": {},
   "source": [
    "4 - Crie um dicionário e verifique se uma chave específica existe dentro desse dicionário."
   ]
  },
  {
   "cell_type": "code",
   "execution_count": 1,
   "metadata": {},
   "outputs": [],
   "source": [
    "lista_de_restaurantes = [{'nome': 'Sushiloko', 'categoria': 'Japonesa', 'status': 'ativo'},\n",
    "                        {'nome': 'PizzaHut', 'categoria': 'Pizza', 'status': 'ativo'},\n",
    "                        {'nome': 'Buger King', 'categoria': 'Fast Food', 'status': 'ativo'}]"
   ]
  },
  {
   "cell_type": "code",
   "execution_count": 4,
   "metadata": {},
   "outputs": [
    {
     "name": "stdout",
     "output_type": "stream",
     "text": [
      "Restaurante não encontrado\n"
     ]
    }
   ],
   "source": [
    "variavel = \"Peixe Urbano\"\n",
    "restaurante_encontrado = False\n",
    "\n",
    "for restaurante in lista_de_restaurantes:\n",
    "    if restaurante['nome'] ==  variavel:\n",
    "        restaurante_encontado = True\n",
    "        print(\"Restaurante encontrado\")\n",
    "if not restaurante_encontrado:\n",
    "    print(\"Restaurante não encontrado\")\n"
   ]
  },
  {
   "cell_type": "markdown",
   "metadata": {},
   "source": [
    "5 - Escreva um código que conte a frequência de cada palavra em uma frase utilizando um dicionário."
   ]
  },
  {
   "cell_type": "code",
   "execution_count": 12,
   "metadata": {},
   "outputs": [
    {
     "name": "stdout",
     "output_type": "stream",
     "text": [
      "{'Python': 2, 'se': 1, 'tornou': 1, 'uma': 1, 'das': 1, 'linguagens': 1, 'de': 1, 'programação': 1, 'mais': 1, 'populares': 1, 'do': 1, 'mundo': 1, 'nos': 1, 'últimos': 1, 'anos.': 1, 'é': 1, 'lindo': 1}\n"
     ]
    }
   ],
   "source": [
    "frase = \"Python se tornou uma das linguagens de programação mais populares do mundo nos últimos anos. Python é lindo\"\n",
    "\n",
    "contagem_palavras = {}\n",
    "\n",
    "palavras = frase.split()\n",
    "\n",
    "for palavra in palavras:\n",
    "    contagem_palavras[palavra] = contagem_palavras.get(palavra, 0) + 1\n",
    "print(contagem_palavras)\n"
   ]
  },
  {
   "cell_type": "markdown",
   "metadata": {},
   "source": [
    "#### Testes"
   ]
  },
  {
   "cell_type": "code",
   "execution_count": null,
   "metadata": {},
   "outputs": [],
   "source": []
  }
 ],
 "metadata": {
  "kernelspec": {
   "display_name": "Python 3",
   "language": "python",
   "name": "python3"
  },
  "language_info": {
   "codemirror_mode": {
    "name": "ipython",
    "version": 3
   },
   "file_extension": ".py",
   "mimetype": "text/x-python",
   "name": "python",
   "nbconvert_exporter": "python",
   "pygments_lexer": "ipython3",
   "version": "3.11.9"
  }
 },
 "nbformat": 4,
 "nbformat_minor": 2
}
