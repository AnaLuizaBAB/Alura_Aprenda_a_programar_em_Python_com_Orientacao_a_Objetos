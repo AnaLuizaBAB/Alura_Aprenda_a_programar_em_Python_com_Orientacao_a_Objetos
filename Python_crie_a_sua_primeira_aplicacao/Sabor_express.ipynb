{
 "cells": [
  {
   "cell_type": "markdown",
   "metadata": {},
   "source": [
    "#### \\o/\n",
    "\n",
    "https://fsymbols.com/pt/"
   ]
  },
  {
   "cell_type": "code",
   "execution_count": null,
   "metadata": {},
   "outputs": [],
   "source": [
    "print(\"🆅🅰🅸 🅳🅰🆁 🅲🅴🆁🆃🅾 2024❗❗\")"
   ]
  },
  {
   "cell_type": "code",
   "execution_count": null,
   "metadata": {},
   "outputs": [],
   "source": [
    "print(\"\"\"\n",
    "────────────────────────────────────────────────────────────────────────────────────────────────────────────────────────────────────────────────────────────────────────────────\n",
    "─██████──██████─██████████████─██████████────████████████───██████████████─████████████████──────██████████████─██████████████─████████████████───██████████████─██████████████─\n",
    "─██░░██──██░░██─██░░░░░░░░░░██─██░░░░░░██────██░░░░░░░░████─██░░░░░░░░░░██─██░░░░░░░░░░░░██──────██░░░░░░░░░░██─██░░░░░░░░░░██─██░░░░░░░░░░░░██───██░░░░░░░░░░██─██░░░░░░░░░░██─\n",
    "─██░░██──██░░██─██░░██████░░██─████░░████────██░░████░░░░██─██░░██████░░██─██░░████████░░██──────██░░██████████─██░░██████████─██░░████████░░██───██████░░██████─██░░██████░░██─\n",
    "─██░░██──██░░██─██░░██──██░░██───██░░██──────██░░██──██░░██─██░░██──██░░██─██░░██────██░░██──────██░░██─────────██░░██─────────██░░██────██░░██───────██░░██─────██░░██──██░░██─\n",
    "─██░░██──██░░██─██░░██████░░██───██░░██──────██░░██──██░░██─██░░██████░░██─██░░████████░░██──────██░░██─────────██░░██████████─██░░████████░░██───────██░░██─────██░░██──██░░██─\n",
    "─██░░██──██░░██─██░░░░░░░░░░██───██░░██──────██░░██──██░░██─██░░░░░░░░░░██─██░░░░░░░░░░░░██──────██░░██─────────██░░░░░░░░░░██─██░░░░░░░░░░░░██───────██░░██─────██░░██──██░░██─\n",
    "─██░░██──██░░██─██░░██████░░██───██░░██──────██░░██──██░░██─██░░██████░░██─██░░██████░░████──────██░░██─────────██░░██████████─██░░██████░░████───────██░░██─────██░░██──██░░██─\n",
    "─██░░░░██░░░░██─██░░██──██░░██───██░░██──────██░░██──██░░██─██░░██──██░░██─██░░██──██░░██────────██░░██─────────██░░██─────────██░░██──██░░██─────────██░░██─────██░░██──██░░██─\n",
    "─████░░░░░░████─██░░██──██░░██─████░░████────██░░████░░░░██─██░░██──██░░██─██░░██──██░░██████────██░░██████████─██░░██████████─██░░██──██░░██████─────██░░██─────██░░██████░░██─\n",
    "───████░░████───██░░██──██░░██─██░░░░░░██────██░░░░░░░░████─██░░██──██░░██─██░░██──██░░░░░░██────██░░░░░░░░░░██─██░░░░░░░░░░██─██░░██──██░░░░░░██─────██░░██─────██░░░░░░░░░░██─\n",
    "─────██████─────██████──██████─██████████────████████████───██████──██████─██████──██████████────██████████████─██████████████─██████──██████████─────██████─────██████████████─\n",
    "────────────────────────────────────────────────────────────────────────────────────────────────────────────────────────────────────────────────────────────────────────────────\n",
    "───────────────────────────────────────────────────────────────────────────\n",
    "─██████████████─██████████████─██████████████─██████──██████─██████─██████─\n",
    "─██░░░░░░░░░░██─██░░░░░░░░░░██─██░░░░░░░░░░██─██░░██──██░░██─██░░██─██░░██─\n",
    "─██████████░░██─██░░██████░░██─██████████░░██─██░░██──██░░██─██░░██─██░░██─\n",
    "─────────██░░██─██░░██──██░░██─────────██░░██─██░░██──██░░██─██░░██─██░░██─\n",
    "─██████████░░██─██░░██──██░░██─██████████░░██─██░░██████░░██─██░░██─██░░██─\n",
    "─██░░░░░░░░░░██─██░░██──██░░██─██░░░░░░░░░░██─██░░░░░░░░░░██─██░░██─██░░██─\n",
    "─██░░██████████─██░░██──██░░██─██░░██████████─██████████░░██─██████─██████─\n",
    "─██░░██─────────██░░██──██░░██─██░░██─────────────────██░░██───────────────\n",
    "─██░░██████████─██░░██████░░██─██░░██████████─────────██░░██─██████─██████─\n",
    "─██░░░░░░░░░░██─██░░░░░░░░░░██─██░░░░░░░░░░██─────────██░░██─██░░██─██░░██─\n",
    "─██████████████─██████████████─██████████████─────────██████─██████─██████─\n",
    "───────────────────────────────────────────────────────────────────────────\"\"\")"
   ]
  },
  {
   "cell_type": "markdown",
   "metadata": {},
   "source": [
    "#### Aprendendo sobre o uso do match x if:"
   ]
  },
  {
   "cell_type": "markdown",
   "metadata": {},
   "source": [
    "- com if:"
   ]
  },
  {
   "cell_type": "code",
   "execution_count": null,
   "metadata": {},
   "outputs": [],
   "source": [
    "import os\n",
    "\n",
    "def exibir_nome_do_programa():\n",
    "    print(\"\"\" \n",
    "                                                        ╔═══╗──╔╗───────╔═══╗\n",
    "                                                        ║╔═╗║──║║───────║╔══╝\n",
    "                                                        ║╚══╦══╣╚═╦══╦═╗║╚══╦╗╔╦══╦═╦══╦══╦══╗\n",
    "                                                        ╚══╗║╔╗║╔╗║╔╗║╔╝║╔══╩╬╬╣╔╗║╔╣║═╣══╣══╣\n",
    "                                                        ║╚═╝║╔╗║╚╝║╚╝║║─║╚══╦╬╬╣╚╝║║║║═╬══╠══║\n",
    "                                                        ╚═══╩╝╚╩══╩══╩╝─╚═══╩╝╚╣╔═╩╝╚══╩══╩══╝\n",
    "                                                        ───────────────────────║║\n",
    "                                                        ───────────────────────╚╝ \"\"\")\n",
    "\n",
    "def exibir_opcoes():\n",
    "    print(\"1. Cadastrar Restaurante\")\n",
    "    print(\"2. Listar Restaurantes\")\n",
    "    print(\"3. Ativar Restaurante\")\n",
    "    print(\"4. Sair\")\n",
    "\n",
    "def finalizando_app():\n",
    "    os.system(\"cls\")                    # Limpa a tela do terminal antes de imprimir a mensagem \"Encerrando\" o programa\"\n",
    "    print(\"Encerrando Programa\\n\")\n",
    "\n",
    "def escolher_opcao():\n",
    "    opcao_escolhida = int(input(\"\\nEscolha uma opçao: \"))\n",
    "\n",
    "    if opcao_escolhida == 1:\n",
    "        print(\"Cadastrar Restaurante\")\n",
    "    if opcao_escolhida == 2:\n",
    "        print(\"Listar Restaurantes\")\n",
    "    if opcao_escolhida == 3:\n",
    "        print(\"Ativar Restaurante\")\n",
    "    if opcao_escolhida == 4:\n",
    "        finalizando_app()\n",
    "\n",
    "\n",
    "def main():\n",
    "    exibir_nome_do_programa()\n",
    "    exibir_opcoes()\n",
    "    escolher_opcao()\n",
    "\n",
    "\n",
    "if __name__ == '__main__':\n",
    "    main()"
   ]
  },
  {
   "cell_type": "markdown",
   "metadata": {},
   "source": [
    "- com match:"
   ]
  },
  {
   "cell_type": "code",
   "execution_count": null,
   "metadata": {},
   "outputs": [],
   "source": [
    "import os\n",
    "\n",
    "def exibir_nome_do_programa():\n",
    "    print(\"\"\" \n",
    "                                                        ╔═══╗──╔╗───────╔═══╗\n",
    "                                                        ║╔═╗║──║║───────║╔══╝\n",
    "                                                        ║╚══╦══╣╚═╦══╦═╗║╚══╦╗╔╦══╦═╦══╦══╦══╗\n",
    "                                                        ╚══╗║╔╗║╔╗║╔╗║╔╝║╔══╩╬╬╣╔╗║╔╣║═╣══╣══╣\n",
    "                                                        ║╚═╝║╔╗║╚╝║╚╝║║─║╚══╦╬╬╣╚╝║║║║═╬══╠══║\n",
    "                                                        ╚═══╩╝╚╩══╩══╩╝─╚═══╩╝╚╣╔═╩╝╚══╩══╩══╝\n",
    "                                                        ───────────────────────║║\n",
    "                                                        ───────────────────────╚╝ \"\"\")\n",
    "\n",
    "def exibir_opcoes():\n",
    "    print(\"1. Cadastrar Restaurante\")\n",
    "    print(\"2. Listar Restaurantes\")\n",
    "    print(\"3. Ativar Restaurante\")\n",
    "    print(\"4. Sair\")\n",
    "\n",
    "def finalizando_app():\n",
    "    os.system(\"cls\")                    # Limpa a tela do terminal antes de imprimir a mensagem \"Encerrando\" o programa\"\n",
    "    print(\"Encerrando Programa\\n\")\n",
    "\n",
    "def escolher_opcao():\n",
    "    opcao_escolhida = int(input(\"\\nEscolha uma opçao: \"))\n",
    "\n",
    "    match opcao_escolhida:\n",
    "        case 1:\n",
    "            print(\"Cadastrar Restaurante\")\n",
    "        case 2:\n",
    "            print(\"Listar Restaurantes\")\n",
    "        case 3:\n",
    "            print(\"Ativar Restaurante\")\n",
    "        case 4:\n",
    "            finalizando_app()\n",
    "\n",
    "\n",
    "def main():\n",
    "    exibir_nome_do_programa()\n",
    "    exibir_opcoes()\n",
    "    escolher_opcao()\n",
    "\n",
    "\n",
    "if __name__ == '__main__':\n",
    "    main()"
   ]
  },
  {
   "cell_type": "markdown",
   "metadata": {},
   "source": [
    "#### Exercícios:"
   ]
  },
  {
   "cell_type": "markdown",
   "metadata": {},
   "source": [
    "- Módulo 2:"
   ]
  },
  {
   "cell_type": "markdown",
   "metadata": {},
   "source": [
    "1 - Solicite ao usuário que insira um número e, em seguida, use uma estrutura if else para determinar se o número é par ou ímpar."
   ]
  },
  {
   "cell_type": "code",
   "execution_count": null,
   "metadata": {},
   "outputs": [],
   "source": [
    "numero = int(input(\"Digite um número: \"))\n",
    "\n",
    "if numero % 2 == 0:\n",
    "    print(\"O número é par.\")\n",
    "else:\n",
    "    print(\"O número é impar.\")"
   ]
  },
  {
   "cell_type": "markdown",
   "metadata": {},
   "source": [
    "2 - Pergunte ao usuário sua idade e, com base nisso, use uma estrutura if elif else para classificar a idade em categorias de acordo com as seguintes condições:\n",
    "\n",
    "- Criança: 0 a 12 anos;\n",
    "- Adolescente: 13 a 18 anos;\n",
    "- Adulto: acima de 18 anos."
   ]
  },
  {
   "cell_type": "code",
   "execution_count": null,
   "metadata": {},
   "outputs": [],
   "source": [
    "idade = int(input(\"Informe a sua idade: \"))\n",
    "\n",
    "while idade < 0:\n",
    "    print (\"Idade inválida. Por favor tente novamente.\")\n",
    "    idade = int(input(\"Informe a sua idade: \"))\n",
    "\n",
    "\n",
    "if 0 <= idade <= 12:\n",
    "    print (\"Você é uma criança.\")\n",
    "elif 12 < idade <= 18:\n",
    "    print (\"Você é um adolescente.\")\n",
    "else:\n",
    "    print (\"Você é um adulto.\")"
   ]
  },
  {
   "cell_type": "markdown",
   "metadata": {},
   "source": [
    "3 - Solicite um nome de usuário e uma senha e use uma estrutura if else para verificar se o nome de usuário e a senha fornecidos correspondem aos valores esperados determinados por você."
   ]
  },
  {
   "cell_type": "code",
   "execution_count": null,
   "metadata": {},
   "outputs": [],
   "source": [
    "usuario = 'Ana Luiza'\n",
    "senha = 1234567\n",
    "\n",
    "usuario_input = input(\"Informe o usuário: \")\n",
    "senha_input = int(input(\"Informe a senha: \"))\n",
    "\n",
    "if usuario_input == usuario and senha_input == senha:\n",
    "    print (\"Login feito com sucesso!\")\n",
    "elif usuario_input != usuario and senha_input != senha:\n",
    "    print (\"Usuário e senha incorretos.\")\n",
    "elif usuario_input != usuario and senha_input == senha:\n",
    "    print (\"Usuário incorreto.\")\n",
    "elif usuario_input == usuario and senha_input != senha:\n",
    "    print (\"Senha incorreta.\")"
   ]
  },
  {
   "cell_type": "markdown",
   "metadata": {},
   "source": [
    "4 - Solicite ao usuário as coordenadas (x, y) de um ponto qualquer e utilize uma estrutura if elif else para determinar em qual quadrante do plano cartesiano o ponto se encontra de acordo com as seguintes condições:\n",
    "\n",
    "- Primeiro Quadrante: os valores de x e y devem ser maiores que zero;\n",
    "- Segundo Quadrante: o valor de x é menor que zero e o valor de y é maior que zero;\n",
    "- Terceiro Quadrante: os valores de x e y devem ser menores que zero;\n",
    "- Quarto Quadrante: o valor de x é maior que zero e o valor de y é menor que zero;\n",
    "- Caso contrário: o ponto está localizado no eixo ou origem."
   ]
  },
  {
   "cell_type": "code",
   "execution_count": null,
   "metadata": {},
   "outputs": [],
   "source": [
    "x = int(input(\"Informe o valor de x: \"))\n",
    "y = int(input(\"Informe o valor de y: \"))\n",
    "\n",
    "print (f\"O ponto fornecifo foi ({x},{y})\")\n",
    "\n",
    "if (x == 0) and (y == 0):\n",
    "    print (\"O ponto se encontra na origem.\")\n",
    "elif (x == 0) and (y != 0):\n",
    "    print(\"O ponto se encontra no eixo y.\")\n",
    "elif (y == 0) and (x != 0):\n",
    "    print (\"O ponto de encontra no eixo x.\")\n",
    "elif (x > 0  and y > 0):\n",
    "    print (\"O ponto se encontra no primeiro quadrante.\")\n",
    "elif (x < 0 and y > 0):\n",
    "    print (\"O ponto se encontra no segundo quadrante\")\n",
    "elif (x < 0 and y < 0):\n",
    "    print (\"O ponto se encontra no terceiro quadrante.\")\n",
    "else:\n",
    "    print (\"O ponto se encontra no quarto quadrante.\")\n",
    "\n"
   ]
  }
 ],
 "metadata": {
  "kernelspec": {
   "display_name": "Python 3",
   "language": "python",
   "name": "python3"
  },
  "language_info": {
   "codemirror_mode": {
    "name": "ipython",
    "version": 3
   },
   "file_extension": ".py",
   "mimetype": "text/x-python",
   "name": "python",
   "nbconvert_exporter": "python",
   "pygments_lexer": "ipython3",
   "version": "3.11.9"
  }
 },
 "nbformat": 4,
 "nbformat_minor": 2
}
